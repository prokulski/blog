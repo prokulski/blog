{
 "metadata": {
  "language_info": {
   "codemirror_mode": {
    "name": "ipython",
    "version": 3
   },
   "file_extension": ".py",
   "mimetype": "text/x-python",
   "name": "python",
   "nbconvert_exporter": "python",
   "pygments_lexer": "ipython3",
   "version": "3.7.4-final"
  },
  "orig_nbformat": 2,
  "kernelspec": {
   "name": "python_defaultSpec_1600083643281",
   "display_name": "Python 3.7.4 64-bit"
  }
 },
 "nbformat": 4,
 "nbformat_minor": 2,
 "cells": [
  {
   "cell_type": "code",
   "execution_count": null,
   "metadata": {},
   "outputs": [],
   "source": [
    "import pandas as pd\n",
    "from random import random\n",
    "\n",
    "from sklearn.pipeline import Pipeline\n",
    "from sklearn.compose import ColumnTransformer\n",
    "\n",
    "from sklearn.model_selection import train_test_split\n",
    "from sklearn.metrics import confusion_matrix, accuracy_score\n",
    "\n",
    "\n",
    "# modele\n",
    "from sklearn.ensemble import RandomForestClassifier, AdaBoostClassifier, GradientBoostingClassifier\n",
    "from sklearn.tree import ExtraTreeClassifier\n",
    "from sklearn.svm import SVC\n",
    "from xgboost import XGBClassifier\n",
    "from catboost import CatBoostClassifier\n",
    "from lightgbm import LGBMClassifier\n",
    "\n",
    "# preprocessing\n",
    "from sklearn.preprocessing import StandardScaler, MinMaxScaler, Normalizer\n",
    "from sklearn.decomposition import PCA, TruncatedSVD, SparsePCA\n",
    "\n",
    "from sklearn.datasets import load_iris"
   ]
  },
  {
   "cell_type": "code",
   "execution_count": null,
   "metadata": {},
   "outputs": [],
   "source": [
    "X = load_iris()['data']\n",
    "y = load_iris()['target']\n",
    "\n",
    "iris_df = pd.DataFrame(X, columns=['sl', 'sw', 'pl', 'pw'])\n",
    "iris_df['species'] = y"
   ]
  },
  {
   "cell_type": "code",
   "execution_count": null,
   "metadata": {},
   "outputs": [],
   "source": [
    "# zwiększamy liczbę wierszy\n",
    "for _ in range(0, 5):\n",
    "    temp_iris_df = pd.DataFrame(X+random()/10, columns=['sl', 'sw', 'pl', 'pw'])\n",
    "    temp_iris_df['species'] = y\n",
    "    \n",
    "    iris_df = iris_df.append(temp_iris_df)"
   ]
  },
  {
   "cell_type": "code",
   "execution_count": null,
   "metadata": {
    "tags": []
   },
   "outputs": [],
   "source": [
    "X_train, X_test, y_train, y_test = train_test_split(iris_df.drop('species', axis=1),\n",
    "                                                    iris_df['species'],\n",
    "                                                    test_size=0.2)"
   ]
  },
  {
   "cell_type": "code",
   "execution_count": null,
   "metadata": {},
   "outputs": [],
   "source": [
    "# lista kolumn numerycznych\n",
    "cols_numerical = X_train.select_dtypes(include=['int64', 'float64']).columns\n",
    "\n",
    "# transformer dla kolumn numerycznych\n",
    "transformer_numerical = Pipeline(steps =[\n",
    "    ('first_scaler', StandardScaler()),\n",
    "    ('dim_red', PCA()),\n",
    "    ('second_scaler', StandardScaler())\n",
    "])"
   ]
  },
  {
   "cell_type": "code",
   "execution_count": null,
   "metadata": {},
   "outputs": [],
   "source": [
    "# analogicznie dla kolumn categorycznych jeśli trzeba"
   ]
  },
  {
   "cell_type": "code",
   "execution_count": null,
   "metadata": {},
   "outputs": [],
   "source": [
    "# preprocesor danych\n",
    "preprocessor = ColumnTransformer(transformers=[\n",
    "    ('numerical', transformer_numerical, cols_numerical)\n",
    "])"
   ]
  },
  {
   "cell_type": "code",
   "execution_count": null,
   "metadata": {},
   "outputs": [],
   "source": [
    "# klasyfikatory                            \n",
    "classifiers = [\n",
    "    ExtraTreeClassifier(),\n",
    "    RandomForestClassifier(),\n",
    "    SVC(),\n",
    "    AdaBoostClassifier(),\n",
    "    GradientBoostingClassifier(),\n",
    "    XGBClassifier(),\n",
    "    CatBoostClassifier(silent=True),\n",
    "    LGBMClassifier(verbose=-1)\n",
    "]\n",
    "\n",
    "scalers = [StandardScaler(), MinMaxScaler(), Normalizer()]\n",
    "\n",
    "dim_reduction = [PCA(), TruncatedSVD(), SparsePCA()]"
   ]
  },
  {
   "cell_type": "code",
   "execution_count": null,
   "metadata": {
    "tags": []
   },
   "outputs": [],
   "source": [
    "models_df = pd.DataFrame()\n",
    "\n",
    "for model in classifiers:\n",
    "    for first_scale in scalers:\n",
    "        for second_scale in scalers:\n",
    "            for dim_red in dim_reduction:\n",
    "                pipe = Pipeline(steps=[('preprocessor', preprocessor),\n",
    "                                ('classifier', model)])\n",
    "\n",
    "                pipe_params = {\n",
    "                    'preprocessor__numerical__first_scaler': first_scale,\n",
    "                    'preprocessor__numerical__second_scaler': second_scale,\n",
    "                    'preprocessor__numerical__dim_red': dim_red\n",
    "                }\n",
    "\n",
    "                pipe.set_params(**pipe_params)\n",
    "                \n",
    "                pipe.fit(X_train, y_train)   \n",
    "\n",
    "                y_pred = pipe.predict(X_test)\n",
    "                score = pipe.score(X_test, y_test)\n",
    "\n",
    "                models_df = models_df.append(\n",
    "                    pd.DataFrame(\n",
    "                        {\n",
    "                            'model': model.__class__.__name__,\n",
    "                            '1st_scaler':first_scale.__class__.__name__,\n",
    "                            '2nd_scaler': second_scale.__class__.__name__,\n",
    "                            'dim_red': dim_red.__class__.__name__,\n",
    "                            'score': score\n",
    "                        },\n",
    "                        index=[0])\n",
    "                        )\n"
   ]
  },
  {
   "cell_type": "code",
   "execution_count": null,
   "metadata": {},
   "outputs": [],
   "source": [
    "models_df.sort_values('score', ascending=False)"
   ]
  },
  {
   "cell_type": "code",
   "execution_count": null,
   "metadata": {},
   "outputs": [],
   "source": [
    "models_df[['model', 'score']] \\\n",
    "    .groupby('model') \\\n",
    "    .aggregate({\n",
    "        'score': ['mean','std', 'min', 'max', 'count']\n",
    "        }) \\\n",
    "    .reset_index() \\\n",
    "    .sort_values(('score', 'mean'), ascending=-False)"
   ]
  },
  {
   "cell_type": "code",
   "execution_count": null,
   "metadata": {},
   "outputs": [],
   "source": [
    "import seaborn as sns"
   ]
  },
  {
   "cell_type": "code",
   "execution_count": null,
   "metadata": {},
   "outputs": [],
   "source": [
    "sns.distplot(models_df['score'], bins=20)"
   ]
  },
  {
   "cell_type": "code",
   "execution_count": null,
   "metadata": {},
   "outputs": [],
   "source": [
    "sns.boxplot(data=models_df, x='score', y='model')"
   ]
  },
  {
   "cell_type": "code",
   "execution_count": null,
   "metadata": {},
   "outputs": [],
   "source": [
    "from sklearn.model_selection import GridSearchCV\n",
    "\n",
    "param_grid = {\n",
    "    'preprocessor__numerical__first_scaler': scalers,\n",
    "    'preprocessor__numerical__second_scaler': scalers,\n",
    "    'preprocessor__numerical__dim_red': dim_reduction\n",
    "}\n"
   ]
  },
  {
   "cell_type": "code",
   "execution_count": null,
   "metadata": {},
   "outputs": [],
   "source": [
    "pipe_scheme = Pipeline(steps=[('preprocessor', preprocessor),\n",
    "                                ('classifier', CatBoostClassifier(silent=True))])\n"
   ]
  },
  {
   "cell_type": "code",
   "execution_count": null,
   "metadata": {},
   "outputs": [],
   "source": [
    "pipe_scheme = Pipeline(steps=[('preprocessor', preprocessor),\n",
    "                                ('classifier', AdaBoostClassifier())])"
   ]
  },
  {
   "cell_type": "code",
   "execution_count": null,
   "metadata": {},
   "outputs": [],
   "source": [
    "CV = GridSearchCV(pipe_scheme, param_grid, n_jobs= 1)"
   ]
  },
  {
   "cell_type": "code",
   "execution_count": null,
   "metadata": {
    "tags": []
   },
   "outputs": [],
   "source": [
    "CV.fit(X_train, y_train)"
   ]
  },
  {
   "cell_type": "code",
   "execution_count": null,
   "metadata": {
    "tags": []
   },
   "outputs": [],
   "source": [
    "print(CV.best_params_)    \n",
    "print(CV.best_score_)"
   ]
  },
  {
   "cell_type": "code",
   "execution_count": null,
   "metadata": {},
   "outputs": [],
   "source": [
    "models_df[models_df['model'] == \"AdaBoostClassifier\"].sort_values('score', ascending=False)"
   ]
  },
  {
   "cell_type": "code",
   "execution_count": null,
   "metadata": {},
   "outputs": [],
   "source": []
  }
 ]
}