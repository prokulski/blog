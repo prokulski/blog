{
 "cells": [
  {
   "cell_type": "markdown",
   "metadata": {},
   "source": [
    "### TODO:\n",
    "\n",
    "\n",
    "#### dodataki:\n",
    "\n",
    "Tutoriale:\n",
    "\n",
    "* https://machinelearningmastery.com/imbalanced-classification-with-the-adult-income-dataset/\n",
    "* https://www.kaggle.com/uciml/adult-census-income/notebooks\n",
    "\n",
    "\n",
    "Dane:\n",
    "\n",
    "* https://archive.ics.uci.edu/ml/datasets/Adult"
   ]
  },
  {
   "cell_type": "markdown",
   "metadata": {},
   "source": [
    "Co to są *pipelines* w sci-kit learn i jak je wykorzystać?\n",
    "Czyli **bardziej efektywne szukanie najlepszego modelu**."
   ]
  },
  {
   "cell_type": "markdown",
   "metadata": {},
   "source": [
    "Jeśli zajmujesz się tworzeniem modeli na przykład klasyfikujących jakieś dane to pewnie wielokrotnie powtarzasz te same kroki:\n",
    "\n",
    "* wczytanie danych\n",
    "* oczyszczenie danych\n",
    "* uzupeńienie braków\n",
    "* przygotowanie dodatkowych cech (feature engineering)\n",
    "* podział danych na treningowe i testowe\n",
    "* dobór hyperparametrów modelu\n",
    "* testowanie modelu\n",
    "\n",
    "I tak w kółko, z każdym nowy modelem.\n",
    "\n",
    "Jest to dość nudne i dość powtarzalne. Szczególnie jak trzeba wykonać różne kroki transformacji danych w różnej kolejności - *upierdliwe* staje się zmienianie kolejności w kodzie.\n",
    "\n",
    "Dlatego wymyślono **pipelines**.\n",
    "\n",
    "Dlatego w tym i kolejnych postach zajmiemy się tym mechanizmem."
   ]
  },
  {
   "cell_type": "markdown",
   "metadata": {},
   "source": [
    "Zaczniemy od podstaaw *data science*, czyli..."
   ]
  },
  {
   "cell_type": "code",
   "execution_count": 1,
   "metadata": {},
   "outputs": [],
   "source": [
    "# bez tego nie ma data science! ;)\n",
    "import pandas as pd\n",
    "\n",
    "# być może coś narysujemy\n",
    "import matplotlib.pyplot as plt\n",
    "import seaborn as sns\n",
    "\n",
    "import time"
   ]
  },
  {
   "cell_type": "markdown",
   "metadata": {},
   "source": [
    "Wszystkie elementy jakich będziemy używać znajdują się w ramach biblioteki **scikit-learn**. Zaimportujemy co trzeba plus kilka innych modeli."
   ]
  },
  {
   "cell_type": "code",
   "execution_count": 2,
   "metadata": {},
   "outputs": [],
   "source": [
    "from sklearn.model_selection import train_test_split\n",
    "\n",
    "# modele\n",
    "from sklearn.tree import ExtraTreeClassifier\n",
    "from sklearn.ensemble import RandomForestClassifier\n",
    "from sklearn.svm import SVC\n",
    "from sklearn.neighbors import KNeighborsClassifier\n",
    "\n",
    "# preprocessing\n",
    "## zmienne ciągłe\n",
    "from sklearn.preprocessing import StandardScaler, MinMaxScaler, Normalizer\n",
    "## zmienne kategoryczne\n",
    "from sklearn.preprocessing import OrdinalEncoder, OneHotEncoder\n",
    "\n",
    "# Pipeline\n",
    "from sklearn.pipeline import Pipeline\n",
    "from sklearn.compose import ColumnTransformer\n",
    "\n",
    "\n",
    "# dodatkowe modele spoza sklearn\n",
    "from xgboost import XGBClassifier\n",
    "from catboost import CatBoostClassifier\n",
    "from lightgbm import LGBMClassifier"
   ]
  },
  {
   "cell_type": "markdown",
   "metadata": {},
   "source": [
    "Skąd wziąć dane? Można użyć wbudowanych w sklearna irysów czy boston housing ale mi zależało na znalezieniu takiego datasetu, który będzie zawierał cechy zarówno ciągłe jak i kategoryczne. Takim zestawem jest **Adult** znany też jako **Census Income**, a ściągnąć go można z [UCI](https://archive.ics.uci.edu/ml/datasets/Adult). Pobieramy (potrzebne nam będą pliki [adult.data](https://archive.ics.uci.edu/ml/machine-learning-databases/adult/adult.data) oraz [adult.test](https://archive.ics.uci.edu/ml/machine-learning-databases/adult/adult.test)) dane, wrzucamy do katalogu *data/* i wczytujemy."
   ]
  },
  {
   "cell_type": "code",
   "execution_count": 3,
   "metadata": {},
   "outputs": [],
   "source": [
    "# dane nie mają nagłówka - samo sobie nadamy nazwy kolumn\n",
    "col_names= ['age', 'work_class', 'final_weight', 'education', 'education_num',\n",
    "            'marital_status', 'occupation', 'relationship', 'race', 'sex',\n",
    "            'capital_gain', 'capital_loss', 'hours_per_week', 'native_country',\n",
    "            'target']\n",
    "\n",
    "# wczytujemy dane\n",
    "adult_dataset = pd.read_csv(\"data/adult.data\",\n",
    "                            engine='python', sep=', ', # tu jest przeciek i spacja!\n",
    "                            header=None, names=col_names,\n",
    "                            na_values=\"?\")\n",
    "\n",
    "# kolumna 'final_weight' do niczego się nie przyda, więc od razu ją usuwamy\n",
    "# wiadomo to z EDA, które tutaj pomijamy\n",
    "adult_dataset.drop('final_weight', axis=1, inplace=True)\n",
    "\n",
    "# usuwamy braki, żeby uprościć przykład\n",
    "adult_dataset.dropna(inplace=True)"
   ]
  },
  {
   "cell_type": "markdown",
   "metadata": {},
   "source": [
    "Zobaczmy jakie mamy typy danych w kolumnach:"
   ]
  },
  {
   "cell_type": "code",
   "execution_count": 4,
   "metadata": {},
   "outputs": [
    {
     "data": {
      "text/plain": [
       "age                int64\n",
       "work_class        object\n",
       "education         object\n",
       "education_num      int64\n",
       "marital_status    object\n",
       "occupation        object\n",
       "relationship      object\n",
       "race              object\n",
       "sex               object\n",
       "capital_gain       int64\n",
       "capital_loss       int64\n",
       "hours_per_week     int64\n",
       "native_country    object\n",
       "target            object\n",
       "dtype: object"
      ]
     },
     "execution_count": 4,
     "metadata": {},
     "output_type": "execute_result"
    }
   ],
   "source": [
    "adult_dataset.dtypes"
   ]
  },
  {
   "cell_type": "markdown",
   "metadata": {},
   "source": [
    "A teraz standardowo - dzielimy dane na zbiór treningowy i testowy. Przy okazji z całej ramki danych wyciągamy kolumnę `target` jako **Y**, a resztę jako **X**. Szalenie wygodnym jest nazywanie cech zmienną **X** a *targetów* **Y** - przy *Ctrl-C + Ctrl-V* ze StackOverflow niczego właściwie nie trzeba robić ;)"
   ]
  },
  {
   "cell_type": "code",
   "execution_count": 5,
   "metadata": {
    "tags": []
   },
   "outputs": [],
   "source": [
    "X_train, X_test, y_train, y_test = train_test_split(adult_dataset.drop('target', axis=1),\n",
    "                                                    adult_dataset['target'],\n",
    "                                                    test_size=0.3,\n",
    "                                                    random_state=42)"
   ]
  },
  {
   "cell_type": "markdown",
   "metadata": {},
   "source": [
    "Sporą część wstępnej analizy pomijam w tym wpisie, ale jeśli nie wiesz dlaczego wybieram takie a nie inne kolumny to zrób samodzielnie analizę danych w tym zbiorze. "
   ]
  },
  {
   "cell_type": "markdown",
   "metadata": {},
   "source": [
    "Czas na trochę informacji o *rurociągach*.\n",
    "\n",
    "W dużym uproszszczeniu są to połączone sekwencyjnie (jedna za drugą, wyjście pierwszej trafia na wejście drugiej i tak dalej do końca) operacje. Operacje czyli klasy, które posiadają metody `.fit()` i `.transform()` - ostatni krok musi mieć .fit (bo to *model* który uczymy),  wszystkie wcześniejsze - .transform (bo to kolejne transformacje danych).\n",
    "\n",
    "Rurociąg może składać się z kilku rurociągów połączonych jeden za drugim - taki model zastosujemy za chwilę.\n",
    "\n",
    "Zatem pierwszy krok to przygotowanie danych - odpowiednie transformacje danych źródłowych i ewentualnie uzupełnienie danych brakujących. W dzisiejszym przkładzie brakujące dane (około 7% całości) po prostu wyrzuciliśmy przez `dropna()`, więc uzupełnieniem braków się nie zajmujemy.\n",
    "\n",
    "Drugim krokiem jest przesłanie danych odpowiednio obrobionych do modelu i jego wytrenowanie."
   ]
  },
  {
   "cell_type": "markdown",
   "metadata": {},
   "source": [
    "Przygotujemy sobie fragmenty całego *rurociągu* odpowiedzialnego za transformacje kolumn. Mamy dwa typy kolumn, zatem zbudujemy dwa małe rurociągi.\n",
    "\n",
    "Pierwszy będzie odpowiedzialny za kolumny z wartościami liczbowymi. Nie wiemy czy są to wartości ciągłe (jak na przykład wiek) czy dyskretne (tutaj taką kolumną jest `education_num` mówiąca o poziome edukacji) i poniżej bierzemy wszystkie jak leci. Znowu: porządna EDA wskaże nam odpowiednie kolumny."
   ]
  },
  {
   "cell_type": "markdown",
   "metadata": {},
   "source": [
    "Najpierw wybieramy wszystkie kolumny o typie numerycznym, a potem budujemy mini-rurociąg `transformer_numerical`, którego jedynym krokiem będzie wywołanie `StandardScaler()` zapisane pod nazwą `num_trans` (to musi być unikalne w całym procesie). Kolejny krok łatwo dodać - po prostu dodajemy kolejnego *tupla* w takim samym schemacie.\n",
    "\n",
    "**Co nam to daje?** Ano daje to tyle, że mamy konkretną nazwę dla konkretnego kroku. Później możemy się do niej dostać i na przykład zmienić: zarówno metodę wywoływaną w tym konkretnym kroku jak i parametry tej metody."
   ]
  },
  {
   "cell_type": "code",
   "execution_count": 9,
   "metadata": {},
   "outputs": [],
   "source": [
    "# lista kolumn numerycznych\n",
    "cols_numerical = X_train.select_dtypes(include=['int64', 'float64']).columns\n",
    "\n",
    "# transformer dla kolumn numerycznych\n",
    "transformer_numerical = Pipeline(steps = [\n",
    "    ('num_trans', StandardScaler())\n",
    "])"
   ]
  },
  {
   "cell_type": "markdown",
   "metadata": {},
   "source": [
    "To samo robimy dla kolumn z wartościami kategorycznymi - budujemy mini-rurociąg `transformer_categorical`, który w kroku `cat_trans` wywołuje `OneHotEncoder()`."
   ]
  },
  {
   "cell_type": "code",
   "execution_count": 10,
   "metadata": {},
   "outputs": [],
   "source": [
    "# lista kolmn kategorycznych\n",
    "cols_categorical = ['work_class', 'education', 'marital_status', 'occupation',\n",
    "                    'relationship', 'race', 'sex', 'native_country']\n",
    "\n",
    "# transformer dla kolumn numerycznych\n",
    "transformer_categorical = Pipeline(steps = [\n",
    "    ('cat_trans', OneHotEncoder())\n",
    "])"
   ]
  },
  {
   "cell_type": "markdown",
   "metadata": {},
   "source": [
    "Co dalej? Z tych dwóch małych rurociągów zbudujemy większy - `preprocessor`. Właściwie to będzie to swego rodzaju rozgałęzienie - **ColumnTransformer** który jedne kolumny puści jednym mini-rurociągiem, a drugie - drugim. I znowu: tutaj może być kilka elementów, oddzielne *przepływy* dla konkretnych kolumn (bo może jedne ciągłe chcemy skalować w jeden sposób, a inne w inny? A może jedne zmienne chcemy uzupełnić średnią a inne medianą?) - mamy pełną swobodę."
   ]
  },
  {
   "cell_type": "code",
   "execution_count": 11,
   "metadata": {},
   "outputs": [],
   "source": [
    "# preprocesor danych\n",
    "preprocessor = ColumnTransformer(transformers = [\n",
    "    ('numerical', transformer_numerical, cols_numerical),\n",
    "    ('categorical', transformer_categorical, cols_categorical)\n",
    "])"
   ]
  },
  {
   "cell_type": "markdown",
   "metadata": {},
   "source": [
    "Cała rura to złożenie odpowiednich elementów w całość - robiliśmy to już wyżej:"
   ]
  },
  {
   "cell_type": "code",
   "execution_count": 12,
   "metadata": {},
   "outputs": [],
   "source": [
    "pipe = Pipeline(steps = [\n",
    "                ('preprocessor', preprocessor),\n",
    "                ('classifier', RandomForestClassifier())\n",
    "            ])\n"
   ]
  },
  {
   "cell_type": "markdown",
   "metadata": {},
   "source": [
    "Teraz cały proces wygląda następująco:\n",
    "\n",
    "* najpierw preprocessing:\n",
    "    * dla kolumn liczbowych wykonywany jest `StandardScaler()`\n",
    "    * dla kolumn kategorycznych - `OneHotEncoder()`\n",
    "* złożone dane przekazywane są do `RandomForestClassifier()`\n",
    "\n",
    " \n",
    " Proces trenuje się dokładne tak samo jak model:"
   ]
  },
  {
   "cell_type": "code",
   "execution_count": 13,
   "metadata": {},
   "outputs": [
    {
     "data": {
      "text/plain": [
       "Pipeline(memory=None,\n",
       "         steps=[('preprocessor',\n",
       "                 ColumnTransformer(n_jobs=None, remainder='drop',\n",
       "                                   sparse_threshold=0.3,\n",
       "                                   transformer_weights=None,\n",
       "                                   transformers=[('numerical',\n",
       "                                                  Pipeline(memory=None,\n",
       "                                                           steps=[('num_trans',\n",
       "                                                                   StandardScaler(copy=True,\n",
       "                                                                                  with_mean=True,\n",
       "                                                                                  with_std=True))],\n",
       "                                                           verbose=False),\n",
       "                                                  Index(['age', 'education_num', 'capital_gain', 'capital_loss',\n",
       "       'hours_per_wee...\n",
       "                 RandomForestClassifier(bootstrap=True, ccp_alpha=0.0,\n",
       "                                        class_weight=None, criterion='gini',\n",
       "                                        max_depth=None, max_features='auto',\n",
       "                                        max_leaf_nodes=None, max_samples=None,\n",
       "                                        min_impurity_decrease=0.0,\n",
       "                                        min_impurity_split=None,\n",
       "                                        min_samples_leaf=1, min_samples_split=2,\n",
       "                                        min_weight_fraction_leaf=0.0,\n",
       "                                        n_estimators=100, n_jobs=None,\n",
       "                                        oob_score=False, random_state=None,\n",
       "                                        verbose=0, warm_start=False))],\n",
       "         verbose=False)"
      ]
     },
     "execution_count": 13,
     "metadata": {},
     "output_type": "execute_result"
    }
   ],
   "source": [
    "pipe.fit(X_train, y_train)"
   ]
  },
  {
   "cell_type": "markdown",
   "metadata": {},
   "source": [
    "a po wytrenowaniu na danych treningowych (cechy *X_train*, target *y_train*) możemy zobaczyć ocenę modelu na danych testowych (odpowiednio *X_test* i *y_test*)"
   ]
  },
  {
   "cell_type": "code",
   "execution_count": 14,
   "metadata": {},
   "outputs": [
    {
     "data": {
      "text/plain": [
       "0.8427450547021771"
      ]
     },
     "execution_count": 14,
     "metadata": {},
     "output_type": "execute_result"
    }
   ],
   "source": [
    "pipe.score(X_test, y_test)"
   ]
  },
  {
   "cell_type": "markdown",
   "metadata": {},
   "source": [
    "Świetnie, świetne, ale to samo można bez tych pipelinów, nie raz na Kaggle tak robili i działało. Więc **po co to wszystko?**\n",
    "\n",
    "Ano po to, co nastąpi za chwilę.\n",
    "\n",
    "Mamy cały proces, każdy jego krok ma swoją nazwę, prawda? A może zamiast *StandardScaler()* lepszy będzie *MinMaxScaler()*? A może inna klasa modeli (zamiast lasów losowych np. XGBoost?). A gdyby sprawdzić każdy model z każdą transformacją? No to się robi sporo kodu... A nazwane kroki w procesie pozwalają na prostą podmiankę!"
   ]
  },
  {
   "cell_type": "markdown",
   "metadata": {},
   "source": [
    "Zdefiniujmy sobie przestrzeń poszukiwań nalepszego modelu i najlepszych transformacji:"
   ]
  },
  {
   "cell_type": "code",
   "execution_count": 19,
   "metadata": {},
   "outputs": [],
   "source": [
    "# klasyfikatory                            \n",
    "classifiers = [\n",
    "    KNeighborsClassifier(2), # 2 bo mamy dwie klasy\n",
    "    ExtraTreeClassifier(),\n",
    "    RandomForestClassifier(),\n",
    "    SVC(),\n",
    "    XGBClassifier(),\n",
    "    CatBoostClassifier(silent=True),\n",
    "    LGBMClassifier(verbose=-1)\n",
    "]\n",
    "\n",
    "# transformatory dla kolumn liczbowych\n",
    "scalers = [StandardScaler(), MinMaxScaler(), Normalizer()]\n",
    "\n",
    "# transformatory dla kolumn kategorycznych\n",
    "cat_transformers = [OrdinalEncoder(), OneHotEncoder()]"
   ]
  },
  {
   "cell_type": "markdown",
   "metadata": {},
   "source": [
    "Teraz w zagnieżdżonych pętlach możemy sprawdzić *każdy z każdym* podmieniając klasyfikatory i transformatory (cała pętla trochę się kręci):"
   ]
  },
  {
   "cell_type": "code",
   "execution_count": 20,
   "metadata": {
    "tags": []
   },
   "outputs": [
    {
     "name": "stdout",
     "output_type": "stream",
     "text": [
      "========================================\n",
      "{'model': 'KNeighborsClassifier', 'num_trans': 'StandardScaler', 'cat_trans': 'OrdinalEncoder', 'score': 81.04, 'time_elapsed': 0.7362420558929443}\n",
      "========================================\n",
      "{'model': 'KNeighborsClassifier', 'num_trans': 'StandardScaler', 'cat_trans': 'OneHotEncoder', 'score': 81.16, 'time_elapsed': 0.12489748001098633}\n",
      "========================================\n",
      "{'model': 'KNeighborsClassifier', 'num_trans': 'MinMaxScaler', 'cat_trans': 'OrdinalEncoder', 'score': 79.89, 'time_elapsed': 0.6909737586975098}\n",
      "========================================\n",
      "{'model': 'KNeighborsClassifier', 'num_trans': 'MinMaxScaler', 'cat_trans': 'OneHotEncoder', 'score': 80.05, 'time_elapsed': 0.11166214942932129}\n",
      "========================================\n",
      "{'model': 'KNeighborsClassifier', 'num_trans': 'Normalizer', 'cat_trans': 'OrdinalEncoder', 'score': 80.72, 'time_elapsed': 0.9801926612854004}\n",
      "========================================\n",
      "{'model': 'KNeighborsClassifier', 'num_trans': 'Normalizer', 'cat_trans': 'OneHotEncoder', 'score': 80.99, 'time_elapsed': 0.17523431777954102}\n",
      "========================================\n",
      "{'model': 'ExtraTreeClassifier', 'num_trans': 'StandardScaler', 'cat_trans': 'OrdinalEncoder', 'score': 79.42, 'time_elapsed': 0.12906551361083984}\n",
      "========================================\n",
      "{'model': 'ExtraTreeClassifier', 'num_trans': 'StandardScaler', 'cat_trans': 'OneHotEncoder', 'score': 79.43, 'time_elapsed': 0.4941403865814209}\n",
      "========================================\n",
      "{'model': 'ExtraTreeClassifier', 'num_trans': 'MinMaxScaler', 'cat_trans': 'OrdinalEncoder', 'score': 79.89, 'time_elapsed': 0.11838459968566895}\n",
      "========================================\n",
      "{'model': 'ExtraTreeClassifier', 'num_trans': 'MinMaxScaler', 'cat_trans': 'OneHotEncoder', 'score': 79.91, 'time_elapsed': 0.42648768424987793}\n",
      "========================================\n",
      "{'model': 'ExtraTreeClassifier', 'num_trans': 'Normalizer', 'cat_trans': 'OrdinalEncoder', 'score': 79.32, 'time_elapsed': 0.12751245498657227}\n",
      "========================================\n",
      "{'model': 'ExtraTreeClassifier', 'num_trans': 'Normalizer', 'cat_trans': 'OneHotEncoder', 'score': 79.77, 'time_elapsed': 0.4186725616455078}\n",
      "========================================\n",
      "{'model': 'RandomForestClassifier', 'num_trans': 'StandardScaler', 'cat_trans': 'OrdinalEncoder', 'score': 84.59, 'time_elapsed': 2.706002712249756}\n",
      "========================================\n",
      "{'model': 'RandomForestClassifier', 'num_trans': 'StandardScaler', 'cat_trans': 'OneHotEncoder', 'score': 84.33, 'time_elapsed': 22.663068294525146}\n",
      "========================================\n",
      "{'model': 'RandomForestClassifier', 'num_trans': 'MinMaxScaler', 'cat_trans': 'OrdinalEncoder', 'score': 84.56, 'time_elapsed': 2.636634588241577}\n",
      "========================================\n",
      "{'model': 'RandomForestClassifier', 'num_trans': 'MinMaxScaler', 'cat_trans': 'OneHotEncoder', 'score': 84.27, 'time_elapsed': 20.96129822731018}\n",
      "========================================\n",
      "{'model': 'RandomForestClassifier', 'num_trans': 'Normalizer', 'cat_trans': 'OrdinalEncoder', 'score': 83.92, 'time_elapsed': 3.499100685119629}\n",
      "========================================\n",
      "{'model': 'RandomForestClassifier', 'num_trans': 'Normalizer', 'cat_trans': 'OneHotEncoder', 'score': 84.37, 'time_elapsed': 18.569581031799316}\n",
      "========================================\n",
      "{'model': 'SVC', 'num_trans': 'StandardScaler', 'cat_trans': 'OrdinalEncoder', 'score': 79.78, 'time_elapsed': 18.91328477859497}\n",
      "========================================\n",
      "{'model': 'SVC', 'num_trans': 'StandardScaler', 'cat_trans': 'OneHotEncoder', 'score': 85.32, 'time_elapsed': 35.18881320953369}\n",
      "========================================\n",
      "{'model': 'SVC', 'num_trans': 'MinMaxScaler', 'cat_trans': 'OrdinalEncoder', 'score': 74.78, 'time_elapsed': 22.527055025100708}\n",
      "========================================\n",
      "{'model': 'SVC', 'num_trans': 'MinMaxScaler', 'cat_trans': 'OneHotEncoder', 'score': 83.42, 'time_elapsed': 34.33306527137756}\n",
      "========================================\n",
      "{'model': 'SVC', 'num_trans': 'Normalizer', 'cat_trans': 'OrdinalEncoder', 'score': 76.94, 'time_elapsed': 24.39368748664856}\n",
      "========================================\n",
      "{'model': 'SVC', 'num_trans': 'Normalizer', 'cat_trans': 'OneHotEncoder', 'score': 83.63, 'time_elapsed': 33.81298065185547}\n",
      "========================================\n",
      "{'model': 'XGBClassifier', 'num_trans': 'StandardScaler', 'cat_trans': 'OrdinalEncoder', 'score': 87.03, 'time_elapsed': 16.954545497894287}\n",
      "========================================\n",
      "{'model': 'XGBClassifier', 'num_trans': 'StandardScaler', 'cat_trans': 'OneHotEncoder', 'score': 87.1, 'time_elapsed': 4.615473031997681}\n",
      "========================================\n",
      "{'model': 'XGBClassifier', 'num_trans': 'MinMaxScaler', 'cat_trans': 'OrdinalEncoder', 'score': 87.03, 'time_elapsed': 1.4386355876922607}\n",
      "========================================\n",
      "{'model': 'XGBClassifier', 'num_trans': 'MinMaxScaler', 'cat_trans': 'OneHotEncoder', 'score': 86.93, 'time_elapsed': 1.8134076595306396}\n",
      "========================================\n",
      "{'model': 'XGBClassifier', 'num_trans': 'Normalizer', 'cat_trans': 'OrdinalEncoder', 'score': 85.7, 'time_elapsed': 1.8997266292572021}\n",
      "========================================\n",
      "{'model': 'XGBClassifier', 'num_trans': 'Normalizer', 'cat_trans': 'OneHotEncoder', 'score': 86.18, 'time_elapsed': 2.533057928085327}\n",
      "========================================\n",
      "{'model': 'CatBoostClassifier', 'num_trans': 'StandardScaler', 'cat_trans': 'OrdinalEncoder', 'score': 87.15, 'time_elapsed': 53.69703483581543}\n",
      "========================================\n",
      "{'model': 'CatBoostClassifier', 'num_trans': 'StandardScaler', 'cat_trans': 'OneHotEncoder', 'score': 87.14, 'time_elapsed': 41.37238669395447}\n",
      "========================================\n",
      "{'model': 'CatBoostClassifier', 'num_trans': 'MinMaxScaler', 'cat_trans': 'OrdinalEncoder', 'score': 87.15, 'time_elapsed': 35.554168939590454}\n",
      "========================================\n",
      "{'model': 'CatBoostClassifier', 'num_trans': 'MinMaxScaler', 'cat_trans': 'OneHotEncoder', 'score': 87.14, 'time_elapsed': 39.94466853141785}\n",
      "========================================\n",
      "{'model': 'CatBoostClassifier', 'num_trans': 'Normalizer', 'cat_trans': 'OrdinalEncoder', 'score': 85.69, 'time_elapsed': 52.59731435775757}\n",
      "========================================\n",
      "{'model': 'CatBoostClassifier', 'num_trans': 'Normalizer', 'cat_trans': 'OneHotEncoder', 'score': 85.93, 'time_elapsed': 49.001853942871094}\n",
      "========================================\n",
      "{'model': 'LGBMClassifier', 'num_trans': 'StandardScaler', 'cat_trans': 'OrdinalEncoder', 'score': 86.89, 'time_elapsed': 7.276319742202759}\n",
      "========================================\n",
      "{'model': 'LGBMClassifier', 'num_trans': 'StandardScaler', 'cat_trans': 'OneHotEncoder', 'score': 87.09, 'time_elapsed': 4.332908630371094}\n",
      "========================================\n",
      "{'model': 'LGBMClassifier', 'num_trans': 'MinMaxScaler', 'cat_trans': 'OrdinalEncoder', 'score': 86.89, 'time_elapsed': 7.930661916732788}\n",
      "========================================\n",
      "{'model': 'LGBMClassifier', 'num_trans': 'MinMaxScaler', 'cat_trans': 'OneHotEncoder', 'score': 87.09, 'time_elapsed': 2.5157697200775146}\n",
      "========================================\n",
      "{'model': 'LGBMClassifier', 'num_trans': 'Normalizer', 'cat_trans': 'OrdinalEncoder', 'score': 85.87, 'time_elapsed': 1.6576929092407227}\n",
      "========================================\n",
      "{'model': 'LGBMClassifier', 'num_trans': 'Normalizer', 'cat_trans': 'OneHotEncoder', 'score': 85.91, 'time_elapsed': 2.871286153793335}\n"
     ]
    }
   ],
   "source": [
    "# miejsce na zebranie wyników\n",
    "models_df = pd.DataFrame()\n",
    "\n",
    "# dla każdego typu modelu zmieniamy kolejne transformatory kolumn\n",
    "for model in classifiers:\n",
    "    for num_tr in scalers:\n",
    "        for cat_tr in cat_transformers:\n",
    "\n",
    "            # przygotowujemy pipeline\n",
    "            pipe = Pipeline(steps=[\n",
    "                ('preprocessor', preprocessor),\n",
    "                ('classifier', model)\n",
    "            ])\n",
    "\n",
    "            # odpowiednio zmieniamy jego paramety - dobieramy transformatory\n",
    "            pipe_params = {\n",
    "                'preprocessor__numerical__num_trans': num_tr,\n",
    "                'preprocessor__categorical__cat_trans': cat_tr\n",
    "            }\n",
    "\n",
    "            pipe.set_params(**pipe_params)\n",
    "\n",
    "            print('='*40)\n",
    "\n",
    "            # trenujemy tak przygotowany model (cały pipeline) mierząc ile to trwa\n",
    "            start_time = time.time()\n",
    "            pipe.fit(X_train, y_train)   \n",
    "            end_time = time.time()\n",
    "\n",
    "            # sprawdzamy jak wyszło\n",
    "            score = pipe.score(X_test, y_test)\n",
    "\n",
    "            # zbieramy w dict parametry\n",
    "            param_dict = {\n",
    "                        'model': model.__class__.__name__,\n",
    "                        'num_trans': num_tr.__class__.__name__,\n",
    "                        'cat_trans': cat_tr.__class__.__name__,\n",
    "                        'score': round(100*score, 2),\n",
    "                        'time_elapsed': end_time - start_time\n",
    "                    }\n",
    "\n",
    "            # wypisujemy je\n",
    "            print(param_dict)\n",
    "\n",
    "            # i dodajemy do tabelki wszystkich wyników (razem z parametrami)\n",
    "            param_dict['score'] = score # to sobie nadpisujemy, bo było upiększane dla printa\n",
    "            models_df = models_df.append(pd.DataFrame(param_dict, index=[0]))"
   ]
  },
  {
   "cell_type": "markdown",
   "metadata": {},
   "source": [
    "Teraz w jednej tabeli mamy wszystkie interesujące dane, które mogą posłużyć nam chociażby do znalezienia najlepszego modelu:"
   ]
  },
  {
   "cell_type": "code",
   "execution_count": 21,
   "metadata": {},
   "outputs": [
    {
     "data": {
      "text/html": [
       "<div>\n",
       "<style scoped>\n",
       "    .dataframe tbody tr th:only-of-type {\n",
       "        vertical-align: middle;\n",
       "    }\n",
       "\n",
       "    .dataframe tbody tr th {\n",
       "        vertical-align: top;\n",
       "    }\n",
       "\n",
       "    .dataframe thead th {\n",
       "        text-align: right;\n",
       "    }\n",
       "</style>\n",
       "<table border=\"1\" class=\"dataframe\">\n",
       "  <thead>\n",
       "    <tr style=\"text-align: right;\">\n",
       "      <th></th>\n",
       "      <th>model</th>\n",
       "      <th>num_trans</th>\n",
       "      <th>cat_trans</th>\n",
       "      <th>score</th>\n",
       "      <th>time_elapsed</th>\n",
       "    </tr>\n",
       "  </thead>\n",
       "  <tbody>\n",
       "    <tr>\n",
       "      <th>0</th>\n",
       "      <td>CatBoostClassifier</td>\n",
       "      <td>StandardScaler</td>\n",
       "      <td>OrdinalEncoder</td>\n",
       "      <td>0.871478</td>\n",
       "      <td>53.697035</td>\n",
       "    </tr>\n",
       "    <tr>\n",
       "      <th>0</th>\n",
       "      <td>CatBoostClassifier</td>\n",
       "      <td>MinMaxScaler</td>\n",
       "      <td>OrdinalEncoder</td>\n",
       "      <td>0.871478</td>\n",
       "      <td>35.554169</td>\n",
       "    </tr>\n",
       "    <tr>\n",
       "      <th>0</th>\n",
       "      <td>CatBoostClassifier</td>\n",
       "      <td>MinMaxScaler</td>\n",
       "      <td>OneHotEncoder</td>\n",
       "      <td>0.871367</td>\n",
       "      <td>39.944669</td>\n",
       "    </tr>\n",
       "    <tr>\n",
       "      <th>0</th>\n",
       "      <td>CatBoostClassifier</td>\n",
       "      <td>StandardScaler</td>\n",
       "      <td>OneHotEncoder</td>\n",
       "      <td>0.871367</td>\n",
       "      <td>41.372387</td>\n",
       "    </tr>\n",
       "    <tr>\n",
       "      <th>0</th>\n",
       "      <td>XGBClassifier</td>\n",
       "      <td>StandardScaler</td>\n",
       "      <td>OneHotEncoder</td>\n",
       "      <td>0.871035</td>\n",
       "      <td>4.615473</td>\n",
       "    </tr>\n",
       "    <tr>\n",
       "      <th>0</th>\n",
       "      <td>LGBMClassifier</td>\n",
       "      <td>MinMaxScaler</td>\n",
       "      <td>OneHotEncoder</td>\n",
       "      <td>0.870925</td>\n",
       "      <td>2.515770</td>\n",
       "    </tr>\n",
       "    <tr>\n",
       "      <th>0</th>\n",
       "      <td>LGBMClassifier</td>\n",
       "      <td>StandardScaler</td>\n",
       "      <td>OneHotEncoder</td>\n",
       "      <td>0.870925</td>\n",
       "      <td>4.332909</td>\n",
       "    </tr>\n",
       "    <tr>\n",
       "      <th>0</th>\n",
       "      <td>XGBClassifier</td>\n",
       "      <td>StandardScaler</td>\n",
       "      <td>OrdinalEncoder</td>\n",
       "      <td>0.870262</td>\n",
       "      <td>16.954545</td>\n",
       "    </tr>\n",
       "    <tr>\n",
       "      <th>0</th>\n",
       "      <td>XGBClassifier</td>\n",
       "      <td>MinMaxScaler</td>\n",
       "      <td>OrdinalEncoder</td>\n",
       "      <td>0.870262</td>\n",
       "      <td>1.438636</td>\n",
       "    </tr>\n",
       "    <tr>\n",
       "      <th>0</th>\n",
       "      <td>XGBClassifier</td>\n",
       "      <td>MinMaxScaler</td>\n",
       "      <td>OneHotEncoder</td>\n",
       "      <td>0.869267</td>\n",
       "      <td>1.813408</td>\n",
       "    </tr>\n",
       "    <tr>\n",
       "      <th>0</th>\n",
       "      <td>LGBMClassifier</td>\n",
       "      <td>MinMaxScaler</td>\n",
       "      <td>OrdinalEncoder</td>\n",
       "      <td>0.868936</td>\n",
       "      <td>7.930662</td>\n",
       "    </tr>\n",
       "    <tr>\n",
       "      <th>0</th>\n",
       "      <td>LGBMClassifier</td>\n",
       "      <td>StandardScaler</td>\n",
       "      <td>OrdinalEncoder</td>\n",
       "      <td>0.868936</td>\n",
       "      <td>7.276320</td>\n",
       "    </tr>\n",
       "    <tr>\n",
       "      <th>0</th>\n",
       "      <td>XGBClassifier</td>\n",
       "      <td>Normalizer</td>\n",
       "      <td>OneHotEncoder</td>\n",
       "      <td>0.861753</td>\n",
       "      <td>2.533058</td>\n",
       "    </tr>\n",
       "    <tr>\n",
       "      <th>0</th>\n",
       "      <td>CatBoostClassifier</td>\n",
       "      <td>Normalizer</td>\n",
       "      <td>OneHotEncoder</td>\n",
       "      <td>0.859321</td>\n",
       "      <td>49.001854</td>\n",
       "    </tr>\n",
       "    <tr>\n",
       "      <th>0</th>\n",
       "      <td>LGBMClassifier</td>\n",
       "      <td>Normalizer</td>\n",
       "      <td>OneHotEncoder</td>\n",
       "      <td>0.859100</td>\n",
       "      <td>2.871286</td>\n",
       "    </tr>\n",
       "    <tr>\n",
       "      <th>0</th>\n",
       "      <td>LGBMClassifier</td>\n",
       "      <td>Normalizer</td>\n",
       "      <td>OrdinalEncoder</td>\n",
       "      <td>0.858658</td>\n",
       "      <td>1.657693</td>\n",
       "    </tr>\n",
       "    <tr>\n",
       "      <th>0</th>\n",
       "      <td>XGBClassifier</td>\n",
       "      <td>Normalizer</td>\n",
       "      <td>OrdinalEncoder</td>\n",
       "      <td>0.857001</td>\n",
       "      <td>1.899727</td>\n",
       "    </tr>\n",
       "    <tr>\n",
       "      <th>0</th>\n",
       "      <td>CatBoostClassifier</td>\n",
       "      <td>Normalizer</td>\n",
       "      <td>OrdinalEncoder</td>\n",
       "      <td>0.856890</td>\n",
       "      <td>52.597314</td>\n",
       "    </tr>\n",
       "    <tr>\n",
       "      <th>0</th>\n",
       "      <td>SVC</td>\n",
       "      <td>StandardScaler</td>\n",
       "      <td>OneHotEncoder</td>\n",
       "      <td>0.853243</td>\n",
       "      <td>35.188813</td>\n",
       "    </tr>\n",
       "    <tr>\n",
       "      <th>0</th>\n",
       "      <td>RandomForestClassifier</td>\n",
       "      <td>StandardScaler</td>\n",
       "      <td>OrdinalEncoder</td>\n",
       "      <td>0.845950</td>\n",
       "      <td>2.706003</td>\n",
       "    </tr>\n",
       "    <tr>\n",
       "      <th>0</th>\n",
       "      <td>RandomForestClassifier</td>\n",
       "      <td>MinMaxScaler</td>\n",
       "      <td>OrdinalEncoder</td>\n",
       "      <td>0.845618</td>\n",
       "      <td>2.636635</td>\n",
       "    </tr>\n",
       "    <tr>\n",
       "      <th>0</th>\n",
       "      <td>RandomForestClassifier</td>\n",
       "      <td>Normalizer</td>\n",
       "      <td>OneHotEncoder</td>\n",
       "      <td>0.843740</td>\n",
       "      <td>18.569581</td>\n",
       "    </tr>\n",
       "    <tr>\n",
       "      <th>0</th>\n",
       "      <td>RandomForestClassifier</td>\n",
       "      <td>StandardScaler</td>\n",
       "      <td>OneHotEncoder</td>\n",
       "      <td>0.843298</td>\n",
       "      <td>22.663068</td>\n",
       "    </tr>\n",
       "    <tr>\n",
       "      <th>0</th>\n",
       "      <td>RandomForestClassifier</td>\n",
       "      <td>MinMaxScaler</td>\n",
       "      <td>OneHotEncoder</td>\n",
       "      <td>0.842745</td>\n",
       "      <td>20.961298</td>\n",
       "    </tr>\n",
       "    <tr>\n",
       "      <th>0</th>\n",
       "      <td>RandomForestClassifier</td>\n",
       "      <td>Normalizer</td>\n",
       "      <td>OrdinalEncoder</td>\n",
       "      <td>0.839209</td>\n",
       "      <td>3.499101</td>\n",
       "    </tr>\n",
       "    <tr>\n",
       "      <th>0</th>\n",
       "      <td>SVC</td>\n",
       "      <td>Normalizer</td>\n",
       "      <td>OneHotEncoder</td>\n",
       "      <td>0.836336</td>\n",
       "      <td>33.812981</td>\n",
       "    </tr>\n",
       "    <tr>\n",
       "      <th>0</th>\n",
       "      <td>SVC</td>\n",
       "      <td>MinMaxScaler</td>\n",
       "      <td>OneHotEncoder</td>\n",
       "      <td>0.834236</td>\n",
       "      <td>34.333065</td>\n",
       "    </tr>\n",
       "    <tr>\n",
       "      <th>0</th>\n",
       "      <td>KNeighborsClassifier</td>\n",
       "      <td>StandardScaler</td>\n",
       "      <td>OneHotEncoder</td>\n",
       "      <td>0.811581</td>\n",
       "      <td>0.124897</td>\n",
       "    </tr>\n",
       "    <tr>\n",
       "      <th>0</th>\n",
       "      <td>KNeighborsClassifier</td>\n",
       "      <td>StandardScaler</td>\n",
       "      <td>OrdinalEncoder</td>\n",
       "      <td>0.810366</td>\n",
       "      <td>0.736242</td>\n",
       "    </tr>\n",
       "    <tr>\n",
       "      <th>0</th>\n",
       "      <td>KNeighborsClassifier</td>\n",
       "      <td>Normalizer</td>\n",
       "      <td>OneHotEncoder</td>\n",
       "      <td>0.809924</td>\n",
       "      <td>0.175234</td>\n",
       "    </tr>\n",
       "    <tr>\n",
       "      <th>0</th>\n",
       "      <td>KNeighborsClassifier</td>\n",
       "      <td>Normalizer</td>\n",
       "      <td>OrdinalEncoder</td>\n",
       "      <td>0.807161</td>\n",
       "      <td>0.980193</td>\n",
       "    </tr>\n",
       "    <tr>\n",
       "      <th>0</th>\n",
       "      <td>KNeighborsClassifier</td>\n",
       "      <td>MinMaxScaler</td>\n",
       "      <td>OneHotEncoder</td>\n",
       "      <td>0.800530</td>\n",
       "      <td>0.111662</td>\n",
       "    </tr>\n",
       "    <tr>\n",
       "      <th>0</th>\n",
       "      <td>ExtraTreeClassifier</td>\n",
       "      <td>MinMaxScaler</td>\n",
       "      <td>OneHotEncoder</td>\n",
       "      <td>0.799094</td>\n",
       "      <td>0.426488</td>\n",
       "    </tr>\n",
       "    <tr>\n",
       "      <th>0</th>\n",
       "      <td>ExtraTreeClassifier</td>\n",
       "      <td>MinMaxScaler</td>\n",
       "      <td>OrdinalEncoder</td>\n",
       "      <td>0.798873</td>\n",
       "      <td>0.118385</td>\n",
       "    </tr>\n",
       "    <tr>\n",
       "      <th>0</th>\n",
       "      <td>KNeighborsClassifier</td>\n",
       "      <td>MinMaxScaler</td>\n",
       "      <td>OrdinalEncoder</td>\n",
       "      <td>0.798873</td>\n",
       "      <td>0.690974</td>\n",
       "    </tr>\n",
       "    <tr>\n",
       "      <th>0</th>\n",
       "      <td>SVC</td>\n",
       "      <td>StandardScaler</td>\n",
       "      <td>OrdinalEncoder</td>\n",
       "      <td>0.797768</td>\n",
       "      <td>18.913285</td>\n",
       "    </tr>\n",
       "    <tr>\n",
       "      <th>0</th>\n",
       "      <td>ExtraTreeClassifier</td>\n",
       "      <td>Normalizer</td>\n",
       "      <td>OneHotEncoder</td>\n",
       "      <td>0.797657</td>\n",
       "      <td>0.418673</td>\n",
       "    </tr>\n",
       "    <tr>\n",
       "      <th>0</th>\n",
       "      <td>ExtraTreeClassifier</td>\n",
       "      <td>StandardScaler</td>\n",
       "      <td>OneHotEncoder</td>\n",
       "      <td>0.794342</td>\n",
       "      <td>0.494140</td>\n",
       "    </tr>\n",
       "    <tr>\n",
       "      <th>0</th>\n",
       "      <td>ExtraTreeClassifier</td>\n",
       "      <td>StandardScaler</td>\n",
       "      <td>OrdinalEncoder</td>\n",
       "      <td>0.794231</td>\n",
       "      <td>0.129066</td>\n",
       "    </tr>\n",
       "    <tr>\n",
       "      <th>0</th>\n",
       "      <td>ExtraTreeClassifier</td>\n",
       "      <td>Normalizer</td>\n",
       "      <td>OrdinalEncoder</td>\n",
       "      <td>0.793237</td>\n",
       "      <td>0.127512</td>\n",
       "    </tr>\n",
       "    <tr>\n",
       "      <th>0</th>\n",
       "      <td>SVC</td>\n",
       "      <td>Normalizer</td>\n",
       "      <td>OrdinalEncoder</td>\n",
       "      <td>0.769367</td>\n",
       "      <td>24.393687</td>\n",
       "    </tr>\n",
       "    <tr>\n",
       "      <th>0</th>\n",
       "      <td>SVC</td>\n",
       "      <td>MinMaxScaler</td>\n",
       "      <td>OrdinalEncoder</td>\n",
       "      <td>0.747817</td>\n",
       "      <td>22.527055</td>\n",
       "    </tr>\n",
       "  </tbody>\n",
       "</table>\n",
       "</div>"
      ],
      "text/plain": [
       "                    model       num_trans       cat_trans     score  \\\n",
       "0      CatBoostClassifier  StandardScaler  OrdinalEncoder  0.871478   \n",
       "0      CatBoostClassifier    MinMaxScaler  OrdinalEncoder  0.871478   \n",
       "0      CatBoostClassifier    MinMaxScaler   OneHotEncoder  0.871367   \n",
       "0      CatBoostClassifier  StandardScaler   OneHotEncoder  0.871367   \n",
       "0           XGBClassifier  StandardScaler   OneHotEncoder  0.871035   \n",
       "0          LGBMClassifier    MinMaxScaler   OneHotEncoder  0.870925   \n",
       "0          LGBMClassifier  StandardScaler   OneHotEncoder  0.870925   \n",
       "0           XGBClassifier  StandardScaler  OrdinalEncoder  0.870262   \n",
       "0           XGBClassifier    MinMaxScaler  OrdinalEncoder  0.870262   \n",
       "0           XGBClassifier    MinMaxScaler   OneHotEncoder  0.869267   \n",
       "0          LGBMClassifier    MinMaxScaler  OrdinalEncoder  0.868936   \n",
       "0          LGBMClassifier  StandardScaler  OrdinalEncoder  0.868936   \n",
       "0           XGBClassifier      Normalizer   OneHotEncoder  0.861753   \n",
       "0      CatBoostClassifier      Normalizer   OneHotEncoder  0.859321   \n",
       "0          LGBMClassifier      Normalizer   OneHotEncoder  0.859100   \n",
       "0          LGBMClassifier      Normalizer  OrdinalEncoder  0.858658   \n",
       "0           XGBClassifier      Normalizer  OrdinalEncoder  0.857001   \n",
       "0      CatBoostClassifier      Normalizer  OrdinalEncoder  0.856890   \n",
       "0                     SVC  StandardScaler   OneHotEncoder  0.853243   \n",
       "0  RandomForestClassifier  StandardScaler  OrdinalEncoder  0.845950   \n",
       "0  RandomForestClassifier    MinMaxScaler  OrdinalEncoder  0.845618   \n",
       "0  RandomForestClassifier      Normalizer   OneHotEncoder  0.843740   \n",
       "0  RandomForestClassifier  StandardScaler   OneHotEncoder  0.843298   \n",
       "0  RandomForestClassifier    MinMaxScaler   OneHotEncoder  0.842745   \n",
       "0  RandomForestClassifier      Normalizer  OrdinalEncoder  0.839209   \n",
       "0                     SVC      Normalizer   OneHotEncoder  0.836336   \n",
       "0                     SVC    MinMaxScaler   OneHotEncoder  0.834236   \n",
       "0    KNeighborsClassifier  StandardScaler   OneHotEncoder  0.811581   \n",
       "0    KNeighborsClassifier  StandardScaler  OrdinalEncoder  0.810366   \n",
       "0    KNeighborsClassifier      Normalizer   OneHotEncoder  0.809924   \n",
       "0    KNeighborsClassifier      Normalizer  OrdinalEncoder  0.807161   \n",
       "0    KNeighborsClassifier    MinMaxScaler   OneHotEncoder  0.800530   \n",
       "0     ExtraTreeClassifier    MinMaxScaler   OneHotEncoder  0.799094   \n",
       "0     ExtraTreeClassifier    MinMaxScaler  OrdinalEncoder  0.798873   \n",
       "0    KNeighborsClassifier    MinMaxScaler  OrdinalEncoder  0.798873   \n",
       "0                     SVC  StandardScaler  OrdinalEncoder  0.797768   \n",
       "0     ExtraTreeClassifier      Normalizer   OneHotEncoder  0.797657   \n",
       "0     ExtraTreeClassifier  StandardScaler   OneHotEncoder  0.794342   \n",
       "0     ExtraTreeClassifier  StandardScaler  OrdinalEncoder  0.794231   \n",
       "0     ExtraTreeClassifier      Normalizer  OrdinalEncoder  0.793237   \n",
       "0                     SVC      Normalizer  OrdinalEncoder  0.769367   \n",
       "0                     SVC    MinMaxScaler  OrdinalEncoder  0.747817   \n",
       "\n",
       "   time_elapsed  \n",
       "0     53.697035  \n",
       "0     35.554169  \n",
       "0     39.944669  \n",
       "0     41.372387  \n",
       "0      4.615473  \n",
       "0      2.515770  \n",
       "0      4.332909  \n",
       "0     16.954545  \n",
       "0      1.438636  \n",
       "0      1.813408  \n",
       "0      7.930662  \n",
       "0      7.276320  \n",
       "0      2.533058  \n",
       "0     49.001854  \n",
       "0      2.871286  \n",
       "0      1.657693  \n",
       "0      1.899727  \n",
       "0     52.597314  \n",
       "0     35.188813  \n",
       "0      2.706003  \n",
       "0      2.636635  \n",
       "0     18.569581  \n",
       "0     22.663068  \n",
       "0     20.961298  \n",
       "0      3.499101  \n",
       "0     33.812981  \n",
       "0     34.333065  \n",
       "0      0.124897  \n",
       "0      0.736242  \n",
       "0      0.175234  \n",
       "0      0.980193  \n",
       "0      0.111662  \n",
       "0      0.426488  \n",
       "0      0.118385  \n",
       "0      0.690974  \n",
       "0     18.913285  \n",
       "0      0.418673  \n",
       "0      0.494140  \n",
       "0      0.129066  \n",
       "0      0.127512  \n",
       "0     24.393687  \n",
       "0     22.527055  "
      ]
     },
     "execution_count": 21,
     "metadata": {},
     "output_type": "execute_result"
    }
   ],
   "source": [
    "models_df.sort_values('score', ascending=False)"
   ]
  },
  {
   "cell_type": "markdown",
   "metadata": {},
   "source": [
    "Ale *najlepszy* może być w różnych kategoriach - nie tylko skuteczności, ale też na przykład czasu uczenia czy też stabilności wyniku. Zobaczmy podstawowe statystyki dla typów modeli:"
   ]
  },
  {
   "cell_type": "code",
   "execution_count": 24,
   "metadata": {},
   "outputs": [
    {
     "data": {
      "text/html": [
       "<div>\n",
       "<style scoped>\n",
       "    .dataframe tbody tr th:only-of-type {\n",
       "        vertical-align: middle;\n",
       "    }\n",
       "\n",
       "    .dataframe tbody tr th {\n",
       "        vertical-align: top;\n",
       "    }\n",
       "\n",
       "    .dataframe thead tr th {\n",
       "        text-align: left;\n",
       "    }\n",
       "</style>\n",
       "<table border=\"1\" class=\"dataframe\">\n",
       "  <thead>\n",
       "    <tr>\n",
       "      <th></th>\n",
       "      <th>model</th>\n",
       "      <th colspan=\"4\" halign=\"left\">score</th>\n",
       "      <th colspan=\"4\" halign=\"left\">time_elapsed</th>\n",
       "    </tr>\n",
       "    <tr>\n",
       "      <th></th>\n",
       "      <th></th>\n",
       "      <th>mean</th>\n",
       "      <th>std</th>\n",
       "      <th>min</th>\n",
       "      <th>max</th>\n",
       "      <th>mean</th>\n",
       "      <th>std</th>\n",
       "      <th>min</th>\n",
       "      <th>max</th>\n",
       "    </tr>\n",
       "  </thead>\n",
       "  <tbody>\n",
       "    <tr>\n",
       "      <th>0</th>\n",
       "      <td>CatBoostClassifier</td>\n",
       "      <td>0.866983</td>\n",
       "      <td>0.006920</td>\n",
       "      <td>0.856890</td>\n",
       "      <td>0.871478</td>\n",
       "      <td>45.361238</td>\n",
       "      <td>7.436789</td>\n",
       "      <td>35.554169</td>\n",
       "      <td>53.697035</td>\n",
       "    </tr>\n",
       "    <tr>\n",
       "      <th>6</th>\n",
       "      <td>XGBClassifier</td>\n",
       "      <td>0.866597</td>\n",
       "      <td>0.005818</td>\n",
       "      <td>0.857001</td>\n",
       "      <td>0.871035</td>\n",
       "      <td>4.875808</td>\n",
       "      <td>6.024976</td>\n",
       "      <td>1.438636</td>\n",
       "      <td>16.954545</td>\n",
       "    </tr>\n",
       "    <tr>\n",
       "      <th>3</th>\n",
       "      <td>LGBMClassifier</td>\n",
       "      <td>0.866247</td>\n",
       "      <td>0.005777</td>\n",
       "      <td>0.858658</td>\n",
       "      <td>0.870925</td>\n",
       "      <td>4.430773</td>\n",
       "      <td>2.613241</td>\n",
       "      <td>1.657693</td>\n",
       "      <td>7.930662</td>\n",
       "    </tr>\n",
       "    <tr>\n",
       "      <th>4</th>\n",
       "      <td>RandomForestClassifier</td>\n",
       "      <td>0.843427</td>\n",
       "      <td>0.002431</td>\n",
       "      <td>0.839209</td>\n",
       "      <td>0.845950</td>\n",
       "      <td>11.839281</td>\n",
       "      <td>9.831852</td>\n",
       "      <td>2.636635</td>\n",
       "      <td>22.663068</td>\n",
       "    </tr>\n",
       "    <tr>\n",
       "      <th>5</th>\n",
       "      <td>SVC</td>\n",
       "      <td>0.806461</td>\n",
       "      <td>0.041817</td>\n",
       "      <td>0.747817</td>\n",
       "      <td>0.853243</td>\n",
       "      <td>28.194814</td>\n",
       "      <td>7.083457</td>\n",
       "      <td>18.913285</td>\n",
       "      <td>35.188813</td>\n",
       "    </tr>\n",
       "    <tr>\n",
       "      <th>2</th>\n",
       "      <td>KNeighborsClassifier</td>\n",
       "      <td>0.806406</td>\n",
       "      <td>0.005416</td>\n",
       "      <td>0.798873</td>\n",
       "      <td>0.811581</td>\n",
       "      <td>0.469867</td>\n",
       "      <td>0.377995</td>\n",
       "      <td>0.111662</td>\n",
       "      <td>0.980193</td>\n",
       "    </tr>\n",
       "    <tr>\n",
       "      <th>1</th>\n",
       "      <td>ExtraTreeClassifier</td>\n",
       "      <td>0.796239</td>\n",
       "      <td>0.002598</td>\n",
       "      <td>0.793237</td>\n",
       "      <td>0.799094</td>\n",
       "      <td>0.285711</td>\n",
       "      <td>0.178046</td>\n",
       "      <td>0.118385</td>\n",
       "      <td>0.494140</td>\n",
       "    </tr>\n",
       "  </tbody>\n",
       "</table>\n",
       "</div>"
      ],
      "text/plain": [
       "                    model     score                                \\\n",
       "                               mean       std       min       max   \n",
       "0      CatBoostClassifier  0.866983  0.006920  0.856890  0.871478   \n",
       "6           XGBClassifier  0.866597  0.005818  0.857001  0.871035   \n",
       "3          LGBMClassifier  0.866247  0.005777  0.858658  0.870925   \n",
       "4  RandomForestClassifier  0.843427  0.002431  0.839209  0.845950   \n",
       "5                     SVC  0.806461  0.041817  0.747817  0.853243   \n",
       "2    KNeighborsClassifier  0.806406  0.005416  0.798873  0.811581   \n",
       "1     ExtraTreeClassifier  0.796239  0.002598  0.793237  0.799094   \n",
       "\n",
       "  time_elapsed                                  \n",
       "          mean       std        min        max  \n",
       "0    45.361238  7.436789  35.554169  53.697035  \n",
       "6     4.875808  6.024976   1.438636  16.954545  \n",
       "3     4.430773  2.613241   1.657693   7.930662  \n",
       "4    11.839281  9.831852   2.636635  22.663068  \n",
       "5    28.194814  7.083457  18.913285  35.188813  \n",
       "2     0.469867  0.377995   0.111662   0.980193  \n",
       "1     0.285711  0.178046   0.118385   0.494140  "
      ]
     },
     "execution_count": 24,
     "metadata": {},
     "output_type": "execute_result"
    }
   ],
   "source": [
    "models_df[['model', 'score', 'time_elapsed']] \\\n",
    "    .groupby('model') \\\n",
    "    .aggregate({\n",
    "        'score': ['mean','std', 'min', 'max'],\n",
    "        'time_elapsed': ['mean','std', 'min', 'max']\n",
    "        }) \\\n",
    "    .reset_index() \\\n",
    "    .sort_values(('score', 'mean'), ascending=False)"
   ]
  },
  {
   "cell_type": "markdown",
   "metadata": {},
   "source": [
    "Tutaj tak na prawdę nie mierzymy stabilności modelu - podajemy różnie przetworzone dane do tego samego modelu. Stablilność można zmierzyć puszczając na model fragmentaryczne dane, co można zautomatyzować porpzez *KFold*/*RepeatedKFold* (z sklearn.model_selection), ale dzisiaj nie o tym."
   ]
  },
  {
   "cell_type": "markdown",
   "metadata": {},
   "source": [
    "Sprawdźmy który rodzaj modelu daje najlepszą skuteczność:"
   ]
  },
  {
   "cell_type": "code",
   "execution_count": 27,
   "metadata": {},
   "outputs": [
    {
     "data": {
      "text/plain": [
       "<AxesSubplot:xlabel='score', ylabel='model'>"
      ]
     },
     "execution_count": 27,
     "metadata": {},
     "output_type": "execute_result"
    },
    {
     "data": {
      "image/png": "[encoded data removed]",
      "text/plain": [
       "<Figure size 432x288 with 1 Axes>"
      ]
     },
     "metadata": {
      "needs_background": "light"
     },
     "output_type": "display_data"
    }
   ],
   "source": [
    "sns.boxplot(data=models_df, x='score', y='model')"
   ]
  },
  {
   "cell_type": "markdown",
   "metadata": {},
   "source": [
    "Ostatnie trzy (XGBoost, LigthGBM i CatBoost) dają najlepsze wyniki i pewnie warto je brać pod uwagę w przyszłości.\n",
    "\n",
    "A czy są różnice pomiędzy transformatorami?"
   ]
  },
  {
   "cell_type": "code",
   "execution_count": 28,
   "metadata": {},
   "outputs": [
    {
     "data": {
      "text/plain": [
       "<AxesSubplot:xlabel='score', ylabel='num_trans'>"
      ]
     },
     "execution_count": 28,
     "metadata": {},
     "output_type": "execute_result"
    },
    {
     "data": {
      "image/png": "[encoded data removed]",
      "text/plain": [
       "<Figure size 432x288 with 1 Axes>"
      ]
     },
     "metadata": {
      "needs_background": "light"
     },
     "output_type": "display_data"
    }
   ],
   "source": [
    "sns.boxplot(data=models_df, x='score', y='num_trans')"
   ]
  },
  {
   "cell_type": "code",
   "execution_count": 29,
   "metadata": {},
   "outputs": [
    {
     "data": {
      "text/plain": [
       "<AxesSubplot:xlabel='score', ylabel='cat_trans'>"
      ]
     },
     "execution_count": 29,
     "metadata": {},
     "output_type": "execute_result"
    },
    {
     "data": {
      "image/png": "[encoded data removed]",
      "text/plain": [
       "<Figure size 432x288 with 1 Axes>"
      ]
     },
     "metadata": {
      "needs_background": "light"
     },
     "output_type": "display_data"
    }
   ],
   "source": [
    "sns.boxplot(data=models_df, x='score', y='cat_trans')"
   ]
  },
  {
   "cell_type": "markdown",
   "metadata": {},
   "source": [
    "Przy tych danych wygląda to tak, że właściwie nie ma większej różnicy. Może więc czas jest istotny?"
   ]
  },
  {
   "cell_type": "code",
   "execution_count": 32,
   "metadata": {},
   "outputs": [
    {
     "data": {
      "text/plain": [
       "<AxesSubplot:xlabel='time_elapsed', ylabel='model'>"
      ]
     },
     "execution_count": 32,
     "metadata": {},
     "output_type": "execute_result"
    },
    {
     "data": {
      "image/png": "[encoded data removed]",
      "text/plain": [
       "<Figure size 432x288 with 1 Axes>"
      ]
     },
     "metadata": {
      "needs_background": "light"
     },
     "output_type": "display_data"
    }
   ],
   "source": [
    "sns.boxplot(data=models_df, x='time_elapsed', y='model')"
   ]
  },
  {
   "cell_type": "markdown",
   "metadata": {},
   "source": [
    "Mamy kilku liderów, ale z tych które dawały najlepsze wyniki warto wziąć pod uwagę XGBoosta i LightGMB."
   ]
  },
  {
   "cell_type": "markdown",
   "metadata": {},
   "source": [
    "Dzięki przećwiczeniu kilku modeli mamy dwóch najbardziej efektywnych (czasowo) i efektownych (z najlepszym *accuracy*) kandydatów do dalszych prac. Wyszukanie ich to kilka liniii kodu. Jeśli przyjdzie nam do głowy nowy model - dodajemy go do listy `classifiers`. Jeśli znajdziemy inny transformator - dopisujemy do listy `scalers` lub `cat_transformers`. Nie trzeba kopiować dużych kawałków kodu, nie trzeba właściwie pisać nowego kodu.\n",
    "\n",
    "Dokładnie tym samym sposobem możemy poszukać *hyperparametrów* dla konkretnego zestawu w **pipeline**. Ale to już w następnym odcinku."
   ]
  },
  {
   "cell_type": "code",
   "execution_count": 39,
   "metadata": {},
   "outputs": [
    {
     "data": {
      "text/plain": [
       "<AxesSubplot:xlabel='time_elapsed', ylabel='score'>"
      ]
     },
     "execution_count": 39,
     "metadata": {},
     "output_type": "execute_result"
    },
    {
     "data": {
      "image/png": "[encoded data removed]",
      "text/plain": [
       "<Figure size 432x288 with 1 Axes>"
      ]
     },
     "metadata": {
      "needs_background": "light"
     },
     "output_type": "display_data"
    }
   ],
   "source": [
    "sns.scatterplot(data=models_df, x='time_elapsed', y='score', hue=models_df.model.to_list())"
   ]
  },
  {
   "cell_type": "code",
   "execution_count": null,
   "metadata": {},
   "outputs": [],
   "source": [
    "from sklearn.model_selection import GridSearchCV\n",
    "\n",
    "param_grid = {\n",
    "    'classifier__max_depth': [5], # [1, 3, 5, 10], \n",
    "    'classifier__min_child_weight': [0.5], # [0.25, 0.5, 0.75],\n",
    "    'classifier__n_estimators': [250, 500], #[25, 50, 100, 250, 500], \n",
    "    'classifier__subsample': [0.8, 0.9], #[0.5, 0.75, 0.8],\n",
    "    'classifier__learning_rate': [0.05, 0.075, 0.09, 0.1, 0.125, 0.15, 0.2] #[0.01, 0.1, 0.2, 0.3, 0.5, 0.75]\n",
    "}"
   ]
  },
  {
   "cell_type": "code",
   "execution_count": null,
   "metadata": {},
   "outputs": [],
   "source": [
    "pipe_scheme = Pipeline(steps=[\n",
    "    ('preprocessor',\n",
    "         ColumnTransformer(transformers=[\n",
    "                                            ('numerical', StandardScaler(), cols_numerical),\n",
    "                                            ('categorical', OrdinalEncoder(), cols_categorical)\n",
    "                                        ])\n",
    "    ),\n",
    "    ('classifier', XGBClassifier())\n",
    "])"
   ]
  },
  {
   "cell_type": "code",
   "execution_count": null,
   "metadata": {},
   "outputs": [],
   "source": [
    "CV = GridSearchCV(pipe_scheme, param_grid, n_jobs=-1)"
   ]
  },
  {
   "cell_type": "code",
   "execution_count": null,
   "metadata": {
    "tags": []
   },
   "outputs": [],
   "source": [
    "CV.fit(X_train, y_train)"
   ]
  },
  {
   "cell_type": "code",
   "execution_count": null,
   "metadata": {
    "tags": []
   },
   "outputs": [],
   "source": [
    "print(CV.best_params_)    \n",
    "print(CV.best_score_)"
   ]
  },
  {
   "cell_type": "code",
   "execution_count": null,
   "metadata": {},
   "outputs": [],
   "source": [
    "sns.distplot(pd.DataFrame(CV.cv_results_)['mean_test_score'], bins=50)"
   ]
  },
  {
   "cell_type": "code",
   "execution_count": null,
   "metadata": {},
   "outputs": [],
   "source": [
    "pd.DataFrame(CV.cv_results_).columns"
   ]
  },
  {
   "cell_type": "code",
   "execution_count": null,
   "metadata": {},
   "outputs": [],
   "source": [
    "sns.boxplot(data=pd.DataFrame(CV.cv_results_), y = 'mean_test_score', x = 'param_classifier__learning_rate')"
   ]
  },
  {
   "cell_type": "code",
   "execution_count": null,
   "metadata": {},
   "outputs": [],
   "source": [
    "sns.boxplot(data=pd.DataFrame(CV.cv_results_), y = 'mean_fit_time', x = 'param_classifier__n_estimators')"
   ]
  },
  {
   "cell_type": "code",
   "execution_count": null,
   "metadata": {},
   "outputs": [],
   "source": []
  }
 ],
 "metadata": {
  "kernelspec": {
   "display_name": "Python 3",
   "language": "python",
   "name": "python3"
  },
  "language_info": {
   "codemirror_mode": {
    "name": "ipython",
    "version": 3
   },
   "file_extension": ".py",
   "mimetype": "text/x-python",
   "name": "python",
   "nbconvert_exporter": "python",
   "pygments_lexer": "ipython3",
   "version": "3.6.9"
  }
 },
 "nbformat": 4,
 "nbformat_minor": 4
}
